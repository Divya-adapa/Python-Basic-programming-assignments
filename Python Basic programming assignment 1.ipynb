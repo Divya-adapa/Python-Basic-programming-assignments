{
 "cells": [
  {
   "cell_type": "code",
   "execution_count": 4,
   "id": "2575fe6a",
   "metadata": {},
   "outputs": [
    {
     "name": "stdout",
     "output_type": "stream",
     "text": [
      "Hello Python\n"
     ]
    }
   ],
   "source": [
    "#1.Write a Python program to print \"Hello Python\"?\n",
    "\n",
    "print(\"Hello Python\")"
   ]
  },
  {
   "cell_type": "code",
   "execution_count": 16,
   "id": "de939b2c",
   "metadata": {},
   "outputs": [
    {
     "name": "stdout",
     "output_type": "stream",
     "text": [
      "8\n",
      "2\n",
      "Addition of given two numbers is  10\n",
      "Division of given two numbers is  4.0\n"
     ]
    }
   ],
   "source": [
    "#2.Write a Python program to do arithmetical operations addition and division.?\n",
    "\n",
    "\n",
    "a = int(input())\n",
    "b = int(input())\n",
    "sum = a + b   # for addition\n",
    "div = a / b   # for division\n",
    "print(\"Addition of given two numbers is \", sum )\n",
    "print(\"Division of given two numbers is \", div)"
   ]
  },
  {
   "cell_type": "code",
   "execution_count": 26,
   "id": "96b3cf31",
   "metadata": {},
   "outputs": [
    {
     "name": "stdout",
     "output_type": "stream",
     "text": [
      "Enter height of the triangle 10\n",
      "Enter base of the triangle 14\n",
      "The area of traingle is  70.0\n"
     ]
    }
   ],
   "source": [
    "#3.Write a Python program to find the area of a triangle?\n",
    "\n",
    "h = int(input(\"Enter height of the triangle \"))\n",
    "b = int(input(\"Enter base of the triangle \"))\n",
    "Area = 0\n",
    "Area = h * b/2\n",
    "print(\"The area of traingle is \", Area)"
   ]
  },
  {
   "cell_type": "code",
   "execution_count": 1,
   "id": "f9fdd93e",
   "metadata": {},
   "outputs": [
    {
     "name": "stdout",
     "output_type": "stream",
     "text": [
      "Enter one side of the triangle 5\n",
      "Enter second side of the triangle 6\n",
      "Enter third side of the triangle 7\n",
      "Area of the triangle is 14.70\n"
     ]
    }
   ],
   "source": [
    "# Area of triangle with 3 sides\n",
    "\n",
    "a = float(input(\"Enter one side of the triangle \"))\n",
    "b = float(input(\"Enter second side of the triangle \"))\n",
    "c = float(input(\"Enter third side of the triangle \"))\n",
    "\n",
    "s = (a + b + c)/2  #  calculating semi- perimeter\n",
    "\n",
    "area = (s*(s-a)*(s-b)*(s-c))**0.5  #area of the triangle\n",
    "print(\"Area of the triangle is %0.2f\" %area) "
   ]
  },
  {
   "cell_type": "code",
   "execution_count": 3,
   "id": "513c9cd0",
   "metadata": {},
   "outputs": [],
   "source": [
    "#4.Write a Python program to swap two variables?\n",
    "\n",
    "a = 5\n",
    "b = 10\n",
    "a,b = b,a"
   ]
  },
  {
   "cell_type": "code",
   "execution_count": 6,
   "id": "b3c3195b",
   "metadata": {},
   "outputs": [
    {
     "data": {
      "text/plain": [
       "(10, 5)"
      ]
     },
     "execution_count": 6,
     "metadata": {},
     "output_type": "execute_result"
    }
   ],
   "source": [
    "a,b"
   ]
  },
  {
   "cell_type": "code",
   "execution_count": 8,
   "id": "727eb7f3",
   "metadata": {},
   "outputs": [
    {
     "name": "stdout",
     "output_type": "stream",
     "text": [
      "5\n",
      "7\n",
      "9\n",
      "11\n",
      "13\n",
      "15\n",
      "17\n",
      "19\n",
      "21\n",
      "23\n"
     ]
    }
   ],
   "source": [
    "#5.Write a Python program to generate a random number?\n",
    "\n",
    "for i in range(5,25,2):  \n",
    "    print(i)"
   ]
  },
  {
   "cell_type": "code",
   "execution_count": null,
   "id": "df5b9a35",
   "metadata": {},
   "outputs": [],
   "source": []
  }
 ],
 "metadata": {
  "kernelspec": {
   "display_name": "Python 3",
   "language": "python",
   "name": "python3"
  },
  "language_info": {
   "codemirror_mode": {
    "name": "ipython",
    "version": 3
   },
   "file_extension": ".py",
   "mimetype": "text/x-python",
   "name": "python",
   "nbconvert_exporter": "python",
   "pygments_lexer": "ipython3",
   "version": "3.8.8"
  }
 },
 "nbformat": 4,
 "nbformat_minor": 5
}
